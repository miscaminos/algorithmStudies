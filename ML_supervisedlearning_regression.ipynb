{
  "nbformat": 4,
  "nbformat_minor": 0,
  "metadata": {
    "colab": {
      "name": "practice01.ipynb",
      "provenance": [],
      "authorship_tag": "ABX9TyP/IkqxjeFNVRuCv7XrvYO5",
      "include_colab_link": true
    },
    "kernelspec": {
      "name": "python3",
      "display_name": "Python 3"
    },
    "language_info": {
      "name": "python"
    }
  },
  "cells": [
    {
      "cell_type": "markdown",
      "metadata": {
        "id": "view-in-github",
        "colab_type": "text"
      },
      "source": [
        "<a href=\"https://colab.research.google.com/github/miscaminos/algorithmStudies/blob/master/ML_supervisedlearning_regression.ipynb\" target=\"_parent\"><img src=\"https://colab.research.google.com/assets/colab-badge.svg\" alt=\"Open In Colab\"/></a>"
      ]
    },
    {
      "cell_type": "code",
      "metadata": {
        "id": "6Z4-vGt21l-e"
      },
      "source": [
        "import pandas as pd"
      ],
      "execution_count": null,
      "outputs": []
    },
    {
      "cell_type": "code",
      "metadata": {
        "id": "jucs8Hs61KNs"
      },
      "source": [
        "#파일들로부터 데이터 불러오기\n",
        "파일경로 = 'https://raw.githubusercontent.com/blackdew/tensorflow1/master/csv/lemonade.csv'\n",
        "레모네이드 = pd.read_csv(파일경로)"
      ],
      "execution_count": null,
      "outputs": []
    },
    {
      "cell_type": "code",
      "metadata": {
        "id": "O3KpBtki1ftg"
      },
      "source": [
        "파일경로 = 'https://raw.githubusercontent.com/blackdew/tensorflow1/master/csv/boston.csv'\n",
        "보스턴 = pd.read_csv(파일경로)"
      ],
      "execution_count": null,
      "outputs": []
    },
    {
      "cell_type": "code",
      "metadata": {
        "id": "pDUaBTeI1k07"
      },
      "source": [
        "파일경로 = 'https://raw.githubusercontent.com/blackdew/tensorflow1/master/csv/iris.csv'\n",
        "아이리스 = pd.read_csv(파일경로)"
      ],
      "execution_count": null,
      "outputs": []
    },
    {
      "cell_type": "code",
      "metadata": {
        "colab": {
          "base_uri": "https://localhost:8080/"
        },
        "id": "rqj_SdvV5PEx",
        "outputId": "07e49499-b6bb-4b6c-bc9d-f89b6f7119d4"
      },
      "source": [
        "#데이터 모양으로 확인하기\n",
        "print(레모네이드.shape)\n",
        "print(보스턴.shape)\n",
        "print(아이리스.shape)\n"
      ],
      "execution_count": null,
      "outputs": [
        {
          "output_type": "stream",
          "text": [
            "(6, 2)\n",
            "(506, 14)\n",
            "(150, 5)\n"
          ],
          "name": "stdout"
        }
      ]
    },
    {
      "cell_type": "code",
      "metadata": {
        "colab": {
          "base_uri": "https://localhost:8080/"
        },
        "id": "Grywto-m59jl",
        "outputId": "c5e3eace-e83d-4704-df3a-48723d3b4ae6"
      },
      "source": [
        "#column이름 출력\n",
        "print(레모네이드.columns)\n",
        "print(보스턴.columns)\n",
        "print(아이리스.columns)"
      ],
      "execution_count": null,
      "outputs": [
        {
          "output_type": "stream",
          "text": [
            "Index(['온도', '판매량'], dtype='object')\n",
            "Index(['crim', 'zn', 'indus', 'chas', 'nox', 'rm', 'age', 'dis', 'rad', 'tax',\n",
            "       'ptratio', 'b', 'lstat', 'medv'],\n",
            "      dtype='object')\n",
            "Index(['꽃잎길이', '꽃잎폭', '꽃받침길이', '꽃받침폭', '품종'], dtype='object')\n"
          ],
          "name": "stdout"
        }
      ]
    },
    {
      "cell_type": "code",
      "metadata": {
        "colab": {
          "base_uri": "https://localhost:8080/"
        },
        "id": "D9liaBYy6fef",
        "outputId": "d693f181-4a6a-48f0-8190-6fe65f4566f5"
      },
      "source": [
        "독립 = 레모네이드[['온도']]\n",
        "종속 = 레모네이드[['판매량']]\n",
        "print(독립.shape, 종속.shape)"
      ],
      "execution_count": null,
      "outputs": [
        {
          "output_type": "stream",
          "text": [
            "(6, 1) (6, 1)\n"
          ],
          "name": "stdout"
        }
      ]
    },
    {
      "cell_type": "code",
      "metadata": {
        "colab": {
          "base_uri": "https://localhost:8080/"
        },
        "id": "0tvBv_ZI7B88",
        "outputId": "df324f8d-5084-4d29-9783-3383d1b0615a"
      },
      "source": [
        "print(독립, 종속)"
      ],
      "execution_count": null,
      "outputs": [
        {
          "output_type": "stream",
          "text": [
            "   온도\n",
            "0  20\n",
            "1  21\n",
            "2  22\n",
            "3  23\n",
            "4  24\n",
            "5  25    판매량\n",
            "0   40\n",
            "1   42\n",
            "2   44\n",
            "3   46\n",
            "4   48\n",
            "5   50\n"
          ],
          "name": "stdout"
        }
      ]
    },
    {
      "cell_type": "code",
      "metadata": {
        "colab": {
          "base_uri": "https://localhost:8080/"
        },
        "id": "sBkqapt47FcZ",
        "outputId": "85a2d1cb-a7bb-4661-f944-6c731fa36ed9"
      },
      "source": [
        "독립 = 보스턴[['crim','zn','indus','chas','nox','rm',\n",
        "          'age','dis','rad','tax','ptratio','b','lstat']]\n",
        "종속 = 보스턴[['medv']]\n",
        "print(독립.shape, 종속.shape)\n",
        "독립 = 아이리스[['꽃잎길이', '꽃잎폭', '꽃받침길이','꽃받침폭']]\n",
        "종속 = 아이리스[['품종']]\n",
        "print(독립.shape, 종속.shape)"
      ],
      "execution_count": null,
      "outputs": [
        {
          "output_type": "stream",
          "text": [
            "(506, 13) (506, 1)\n",
            "(150, 4) (150, 1)\n"
          ],
          "name": "stdout"
        }
      ]
    },
    {
      "cell_type": "code",
      "metadata": {
        "colab": {
          "base_uri": "https://localhost:8080/"
        },
        "id": "MN-0AL0-7R0Q",
        "outputId": "91df5ca3-4fbb-4480-ffb3-80f7091528be"
      },
      "source": [
        "#각각의 데이터 확인해보기\n",
        "print(레모네이드.head())\n",
        "print(보스턴.head())\n",
        "print(아이리스.head())"
      ],
      "execution_count": null,
      "outputs": [
        {
          "output_type": "stream",
          "text": [
            "   온도  판매량\n",
            "0  20   40\n",
            "1  21   42\n",
            "2  22   44\n",
            "3  23   46\n",
            "4  24   48\n",
            "      crim    zn  indus  chas    nox  ...  tax  ptratio       b  lstat  medv\n",
            "0  0.00632  18.0   2.31     0  0.538  ...  296     15.3  396.90   4.98  24.0\n",
            "1  0.02731   0.0   7.07     0  0.469  ...  242     17.8  396.90   9.14  21.6\n",
            "2  0.02729   0.0   7.07     0  0.469  ...  242     17.8  392.83   4.03  34.7\n",
            "3  0.03237   0.0   2.18     0  0.458  ...  222     18.7  394.63   2.94  33.4\n",
            "4  0.06905   0.0   2.18     0  0.458  ...  222     18.7  396.90   5.33  36.2\n",
            "\n",
            "[5 rows x 14 columns]\n",
            "   꽃잎길이  꽃잎폭  꽃받침길이  꽃받침폭      품종\n",
            "0   5.1  3.5    1.4   0.2  setosa\n",
            "1   4.9  3.0    1.4   0.2  setosa\n",
            "2   4.7  3.2    1.3   0.2  setosa\n",
            "3   4.6  3.1    1.5   0.2  setosa\n",
            "4   5.0  3.6    1.4   0.2  setosa\n"
          ],
          "name": "stdout"
        }
      ]
    },
    {
      "cell_type": "code",
      "metadata": {
        "colab": {
          "base_uri": "https://localhost:8080/"
        },
        "id": "MhjtCivs_BDd",
        "outputId": "ec3f701b-a855-4f66-f1f8-c99c1a40ca41"
      },
      "source": [
        "###############################################################################\n",
        "#레모네이드 판매예측 지도학습구현 방법 실습\n",
        "\n",
        "\n",
        "# 0. 라이브러리 사용\n",
        "import tensorflow as tf\n",
        "import pandas as pd \n",
        "\n",
        "# 1. 레모네이드 데이터 준비\n",
        "파일경로 = 'https://raw.githubusercontent.com/blackdew/tensorflow1/master/csv/lemonade.csv'\n",
        "데이터 = pd.read_csv(파일경로)\n",
        "print(데이터.columns)\n",
        "print(데이터.head())"
      ],
      "execution_count": null,
      "outputs": [
        {
          "output_type": "stream",
          "text": [
            "Index(['온도', '판매량'], dtype='object')\n",
            "   온도  판매량\n",
            "0  20   40\n",
            "1  21   42\n",
            "2  22   44\n",
            "3  23   46\n",
            "4  24   48\n"
          ],
          "name": "stdout"
        }
      ]
    },
    {
      "cell_type": "code",
      "metadata": {
        "colab": {
          "base_uri": "https://localhost:8080/"
        },
        "id": "_fNIe9tLRPqP",
        "outputId": "2f1fa95c-51fc-4d91-da43-36940da9f0af"
      },
      "source": [
        "# 2. 종속변수, 독립변수 구분\n",
        "독립 = 레모네이드[['온도']]\n",
        "종속 = 레모네이드[['판매량']]\n",
        "print(독립.shape, 종속.shape)"
      ],
      "execution_count": null,
      "outputs": [
        {
          "output_type": "stream",
          "text": [
            "(6, 1) (6, 1)\n"
          ],
          "name": "stdout"
        }
      ]
    },
    {
      "cell_type": "code",
      "metadata": {
        "id": "KcWOMSHfRt2m"
      },
      "source": [
        "# 3. 모델 만들기\n",
        "X = tf.keras.layers.Input(shape=[1])\n",
        "Y = tf.keras.layers.Dense(1)(X)\n",
        "model = tf.keras.models.Model(X,Y)\n",
        "model.compile(loss='mse')"
      ],
      "execution_count": null,
      "outputs": []
    },
    {
      "cell_type": "code",
      "metadata": {
        "colab": {
          "base_uri": "https://localhost:8080/"
        },
        "id": "CFpNSZGfRuAw",
        "outputId": "5ccd981f-5529-4822-8b12-40ab95b8f3bd"
      },
      "source": [
        "# 4. 모델을 학습시키기 (epoch=몇번 학습할지)\n",
        "model.fit(독립, 종속, epochs=1000, verbose=0)\n",
        "model.fit(독립, 종속, epochs=10)"
      ],
      "execution_count": null,
      "outputs": [
        {
          "output_type": "stream",
          "text": [
            "Epoch 1/10\n",
            "1/1 [==============================] - 0s 4ms/step - loss: 0.0227\n",
            "Epoch 2/10\n",
            "1/1 [==============================] - 0s 3ms/step - loss: 0.0227\n",
            "Epoch 3/10\n",
            "1/1 [==============================] - 0s 3ms/step - loss: 0.0226\n",
            "Epoch 4/10\n",
            "1/1 [==============================] - 0s 4ms/step - loss: 0.0226\n",
            "Epoch 5/10\n",
            "1/1 [==============================] - 0s 4ms/step - loss: 0.0226\n",
            "Epoch 6/10\n",
            "1/1 [==============================] - 0s 5ms/step - loss: 0.0226\n",
            "Epoch 7/10\n",
            "1/1 [==============================] - 0s 3ms/step - loss: 0.0226\n",
            "Epoch 8/10\n",
            "1/1 [==============================] - 0s 4ms/step - loss: 0.0226\n",
            "Epoch 9/10\n",
            "1/1 [==============================] - 0s 3ms/step - loss: 0.0225\n",
            "Epoch 10/10\n",
            "1/1 [==============================] - 0s 4ms/step - loss: 0.0225\n"
          ],
          "name": "stdout"
        },
        {
          "output_type": "execute_result",
          "data": {
            "text/plain": [
              "<tensorflow.python.keras.callbacks.History at 0x7f259adca050>"
            ]
          },
          "metadata": {
            "tags": []
          },
          "execution_count": 35
        }
      ]
    },
    {
      "cell_type": "code",
      "metadata": {
        "colab": {
          "base_uri": "https://localhost:8080/"
        },
        "id": "9kKuv7W4R8Ff",
        "outputId": "93810f73-b650-4bd9-f63f-f615fc4b9a4e"
      },
      "source": [
        "# 위코드를 4번 반복 실행해서 1이하의 loss를 얻음.\n",
        "# epochs=1000 loss=~2829, \n",
        "# epochs+=1000 loss=~870, \n",
        "# epochs+=1000 loss=~36, \n",
        "# epochs+=1000 loss=~0.04\n",
        "\n",
        "# 5. 모델을 이용하기\n",
        "print(model.predict(독립))\n",
        "num_of_lemons=15\n",
        "num_of_lemonades=model.predict([[num_of_lemons]])\n",
        "print(\"독립변수: \"+str(num_of_lemons)+\" 종속변수: \"+str(num_of_lemonades))"
      ],
      "execution_count": null,
      "outputs": [
        {
          "output_type": "stream",
          "text": [
            "[[40.239742]\n",
            " [42.152874]\n",
            " [44.066   ]\n",
            " [45.979134]\n",
            " [47.892265]\n",
            " [49.805393]]\n",
            "독립변수: 15 종속변수: [[30.674093]]\n"
          ],
          "name": "stdout"
        }
      ]
    },
    {
      "cell_type": "code",
      "metadata": {
        "id": "RX1JsL_nd7gb"
      },
      "source": [
        ""
      ],
      "execution_count": null,
      "outputs": []
    }
  ]
}